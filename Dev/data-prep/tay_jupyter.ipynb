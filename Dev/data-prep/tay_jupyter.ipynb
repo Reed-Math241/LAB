{
 "metadata": {
  "language_info": {
   "codemirror_mode": {
    "name": "ipython",
    "version": 3
   },
   "file_extension": ".py",
   "mimetype": "text/x-python",
   "name": "python",
   "nbconvert_exporter": "python",
   "pygments_lexer": "ipython3",
   "version": "3.8.9"
  },
  "orig_nbformat": 2,
  "kernelspec": {
   "name": "python389jvsc74a57bd0d2a5f34be70bd544714f1750369314538cb0700b5bf9810be719cac98b957d7a",
   "display_name": "Python 3.8.9 64-bit"
  },
  "metadata": {
   "interpreter": {
    "hash": "d2a5f34be70bd544714f1750369314538cb0700b5bf9810be719cac98b957d7a"
   }
  }
 },
 "nbformat": 4,
 "nbformat_minor": 2,
 "cells": [
  {
   "cell_type": "code",
   "execution_count": 6,
   "metadata": {},
   "outputs": [],
   "source": [
    "import pandas as pd\n",
    "import advertools"
   ]
  },
  {
   "cell_type": "code",
   "execution_count": 9,
   "metadata": {},
   "outputs": [
    {
     "output_type": "execute_result",
     "data": {
      "text/plain": [
       "{'emoji': [['📉', '📉', '📉', '📉', '📉'], [], ['⛳'], []],\n",
       " 'emoji_text': [['chart decreasing',\n",
       "   'chart decreasing',\n",
       "   'chart decreasing',\n",
       "   'chart decreasing',\n",
       "   'chart decreasing'],\n",
       "  [],\n",
       "  ['flag in hole'],\n",
       "  []],\n",
       " 'emoji_flat': ['📉', '📉', '📉', '📉', '📉', '⛳'],\n",
       " 'emoji_flat_text': ['chart decreasing',\n",
       "  'chart decreasing',\n",
       "  'chart decreasing',\n",
       "  'chart decreasing',\n",
       "  'chart decreasing',\n",
       "  'flag in hole'],\n",
       " 'emoji_counts': [5, 0, 1, 0],\n",
       " 'emoji_freq': [(0, 2), (1, 1), (5, 1)],\n",
       " 'top_emoji': [('📉', 5), ('⛳', 1)],\n",
       " 'top_emoji_text': [('chart decreasing', 5), ('flag in hole', 1)],\n",
       " 'top_emoji_groups': [('Objects', 5), ('Activities', 1)],\n",
       " 'top_emoji_sub_groups': [('office', 5), ('sport', 1)],\n",
       " 'overview': {'num_posts': 4,\n",
       "  'num_emoji': 6,\n",
       "  'emoji_per_post': 1.5,\n",
       "  'unique_emoji': 2}}"
      ]
     },
     "metadata": {},
     "execution_count": 9
    }
   ],
   "source": [
    "posts = [\"You heard the mans fellas Merry Christmas 📉📉📉📉📉\", \"Some of the Best Offers of the Year!\", \"Going long on $DS ⛳️\", \"SHORT $JNJ NAO\"]\n",
    "emoji_summary = advertools.extract_emoji(posts)\n",
    "emoji_summary"
   ]
  },
  {
   "cell_type": "code",
   "execution_count": 12,
   "metadata": {},
   "outputs": [
    {
     "output_type": "execute_result",
     "data": {
      "text/plain": [
       "      Symbol                                               Name Last Sale  \\\n",
       "0          A             Agilent Technologies Inc. Common Stock   $129.34   \n",
       "1         AA                    Alcoa Corporation Common Stock     $31.52   \n",
       "2        AAC  Ares Acquisition Corporation Class A Ordinary ...     $9.86   \n",
       "3       AAIC      Arlington Asset Investment Corp Class A (new)     $4.01   \n",
       "4     AAIC^B             Arlington Asset Investment Corp 7.00%     $23.80   \n",
       "...      ...                                                ...       ...   \n",
       "3073     ZTO  ZTO Express (Cayman) Inc. American Depositary ...    $28.46   \n",
       "3074     ZTR                      Virtus Total Return Fund Inc.     $9.48   \n",
       "3075     ZTS                   Zoetis Inc. Class A Common Stock   $157.88   \n",
       "3076     ZUO                    Zuora Inc. Class A Common Stock    $15.03   \n",
       "3077    ZYME                       Zymeworks Inc. Common Shares    $30.53   \n",
       "\n",
       "      Net Change % Change    Market Cap        Country  IPO Year   Volume  \\\n",
       "0          -1.70  -1.297%  3.940958e+10  United States    1999.0   954555   \n",
       "1           0.21   0.671%  5.872844e+09            NaN    2016.0  4191643   \n",
       "2           0.01   0.102%  1.232623e+09            NaN    2021.0   250154   \n",
       "3          -0.04  -0.988%  1.339511e+08  United States       NaN   219577   \n",
       "4           0.02   0.084%           NaN  United States       NaN      401   \n",
       "...          ...      ...           ...            ...       ...      ...   \n",
       "3073       -0.89  -3.032%  2.358964e+10          China    2016.0  3534441   \n",
       "3074        0.15   1.608%  2.338017e+08  United States    1988.0   201265   \n",
       "3075        1.98    1.27%  7.504317e+10  United States    2013.0  1660514   \n",
       "3076       -0.30  -1.957%  1.818630e+09            NaN    2018.0   744629   \n",
       "3077       -0.61  -1.959%  1.409388e+09         Canada    2017.0   239025   \n",
       "\n",
       "                 Sector                                          Industry  \n",
       "0         Capital Goods  Biotechnology: Laboratory Analytical Instruments  \n",
       "1      Basic Industries                                          Aluminum  \n",
       "2               Finance                                 Business Services  \n",
       "3     Consumer Services                     Real Estate Investment Trusts  \n",
       "4                   NaN                                               NaN  \n",
       "...                 ...                                               ...  \n",
       "3073     Transportation                 Trucking Freight/Courier Services  \n",
       "3074                NaN                                               NaN  \n",
       "3075        Health Care                             Major Pharmaceuticals  \n",
       "3076         Technology           Computer Software: Prepackaged Software  \n",
       "3077        Health Care                             Major Pharmaceuticals  \n",
       "\n",
       "[3078 rows x 11 columns]"
      ],
      "text/html": "<div>\n<style scoped>\n    .dataframe tbody tr th:only-of-type {\n        vertical-align: middle;\n    }\n\n    .dataframe tbody tr th {\n        vertical-align: top;\n    }\n\n    .dataframe thead th {\n        text-align: right;\n    }\n</style>\n<table border=\"1\" class=\"dataframe\">\n  <thead>\n    <tr style=\"text-align: right;\">\n      <th></th>\n      <th>Symbol</th>\n      <th>Name</th>\n      <th>Last Sale</th>\n      <th>Net Change</th>\n      <th>% Change</th>\n      <th>Market Cap</th>\n      <th>Country</th>\n      <th>IPO Year</th>\n      <th>Volume</th>\n      <th>Sector</th>\n      <th>Industry</th>\n    </tr>\n  </thead>\n  <tbody>\n    <tr>\n      <th>0</th>\n      <td>A</td>\n      <td>Agilent Technologies Inc. Common Stock</td>\n      <td>$129.34</td>\n      <td>-1.70</td>\n      <td>-1.297%</td>\n      <td>3.940958e+10</td>\n      <td>United States</td>\n      <td>1999.0</td>\n      <td>954555</td>\n      <td>Capital Goods</td>\n      <td>Biotechnology: Laboratory Analytical Instruments</td>\n    </tr>\n    <tr>\n      <th>1</th>\n      <td>AA</td>\n      <td>Alcoa Corporation Common Stock</td>\n      <td>$31.52</td>\n      <td>0.21</td>\n      <td>0.671%</td>\n      <td>5.872844e+09</td>\n      <td>NaN</td>\n      <td>2016.0</td>\n      <td>4191643</td>\n      <td>Basic Industries</td>\n      <td>Aluminum</td>\n    </tr>\n    <tr>\n      <th>2</th>\n      <td>AAC</td>\n      <td>Ares Acquisition Corporation Class A Ordinary ...</td>\n      <td>$9.86</td>\n      <td>0.01</td>\n      <td>0.102%</td>\n      <td>1.232623e+09</td>\n      <td>NaN</td>\n      <td>2021.0</td>\n      <td>250154</td>\n      <td>Finance</td>\n      <td>Business Services</td>\n    </tr>\n    <tr>\n      <th>3</th>\n      <td>AAIC</td>\n      <td>Arlington Asset Investment Corp Class A (new)</td>\n      <td>$4.01</td>\n      <td>-0.04</td>\n      <td>-0.988%</td>\n      <td>1.339511e+08</td>\n      <td>United States</td>\n      <td>NaN</td>\n      <td>219577</td>\n      <td>Consumer Services</td>\n      <td>Real Estate Investment Trusts</td>\n    </tr>\n    <tr>\n      <th>4</th>\n      <td>AAIC^B</td>\n      <td>Arlington Asset Investment Corp 7.00%</td>\n      <td>$23.80</td>\n      <td>0.02</td>\n      <td>0.084%</td>\n      <td>NaN</td>\n      <td>United States</td>\n      <td>NaN</td>\n      <td>401</td>\n      <td>NaN</td>\n      <td>NaN</td>\n    </tr>\n    <tr>\n      <th>...</th>\n      <td>...</td>\n      <td>...</td>\n      <td>...</td>\n      <td>...</td>\n      <td>...</td>\n      <td>...</td>\n      <td>...</td>\n      <td>...</td>\n      <td>...</td>\n      <td>...</td>\n      <td>...</td>\n    </tr>\n    <tr>\n      <th>3073</th>\n      <td>ZTO</td>\n      <td>ZTO Express (Cayman) Inc. American Depositary ...</td>\n      <td>$28.46</td>\n      <td>-0.89</td>\n      <td>-3.032%</td>\n      <td>2.358964e+10</td>\n      <td>China</td>\n      <td>2016.0</td>\n      <td>3534441</td>\n      <td>Transportation</td>\n      <td>Trucking Freight/Courier Services</td>\n    </tr>\n    <tr>\n      <th>3074</th>\n      <td>ZTR</td>\n      <td>Virtus Total Return Fund Inc.</td>\n      <td>$9.48</td>\n      <td>0.15</td>\n      <td>1.608%</td>\n      <td>2.338017e+08</td>\n      <td>United States</td>\n      <td>1988.0</td>\n      <td>201265</td>\n      <td>NaN</td>\n      <td>NaN</td>\n    </tr>\n    <tr>\n      <th>3075</th>\n      <td>ZTS</td>\n      <td>Zoetis Inc. Class A Common Stock</td>\n      <td>$157.88</td>\n      <td>1.98</td>\n      <td>1.27%</td>\n      <td>7.504317e+10</td>\n      <td>United States</td>\n      <td>2013.0</td>\n      <td>1660514</td>\n      <td>Health Care</td>\n      <td>Major Pharmaceuticals</td>\n    </tr>\n    <tr>\n      <th>3076</th>\n      <td>ZUO</td>\n      <td>Zuora Inc. Class A Common Stock</td>\n      <td>$15.03</td>\n      <td>-0.30</td>\n      <td>-1.957%</td>\n      <td>1.818630e+09</td>\n      <td>NaN</td>\n      <td>2018.0</td>\n      <td>744629</td>\n      <td>Technology</td>\n      <td>Computer Software: Prepackaged Software</td>\n    </tr>\n    <tr>\n      <th>3077</th>\n      <td>ZYME</td>\n      <td>Zymeworks Inc. Common Shares</td>\n      <td>$30.53</td>\n      <td>-0.61</td>\n      <td>-1.959%</td>\n      <td>1.409388e+09</td>\n      <td>Canada</td>\n      <td>2017.0</td>\n      <td>239025</td>\n      <td>Health Care</td>\n      <td>Major Pharmaceuticals</td>\n    </tr>\n  </tbody>\n</table>\n<p>3078 rows × 11 columns</p>\n</div>"
     },
     "metadata": {},
     "execution_count": 12
    }
   ],
   "source": [
    "tickers[\"Sector\"]"
   ]
  },
  {
   "cell_type": "code",
   "execution_count": null,
   "metadata": {},
   "outputs": [],
   "source": []
  }
 ]
}